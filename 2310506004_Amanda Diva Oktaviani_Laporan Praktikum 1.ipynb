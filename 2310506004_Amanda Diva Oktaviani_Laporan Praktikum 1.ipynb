{
 "cells": [
  {
   "cell_type": "markdown",
   "metadata": {},
   "source": [
    "## Langkah-langkah Hands-On\n"
   ]
  },
  {
   "cell_type": "markdown",
   "metadata": {},
   "source": [
    "## 1. Installasi Anaconda"
   ]
  },
  {
   "cell_type": "markdown",
   "metadata": {},
   "source": [
    "- **Langkah 1: Unduh dan Instal Anaconda**\n",
    "  Anaconda adalah platform distribusi Python yang menyertakan berbagai alat pengembangan, termasuk Jupyter Notebook. Ikuti langkah-langkah instalasi sesuai sistem operasi:\n",
    "  - Unduh Anaconda: [Download Anaconda](https://www.anaconda.com/products/individual)\n",
    "  - Instal sesuai instruksi yang ada di situs web tersebut (Windows/Mac/Linux).\n",
    "\n",
    "- **Langkah 2: Menginstal PySpark di Anaconda**\n",
    "  Setelah Anaconda terinstal, tambahkan PySpark:\n",
    "  ```bash\n",
    "  Dengan perintah 'pip install pyspark==3.4.1' di terminal\n",
    "  ```\n",
    "\n",
    "- **Langkah 3: Menginstal Pandas**\n",
    "  Untuk memudahkan data analysis, install Pandas:\n",
    "  ```bash\n",
    "  Dengan perintah 'pip install pandas' di terminal\n",
    "  ```\n",
    "\n",
    "- **Langkah 4: Menginstal Findspark**\n",
    "  ```bash\n",
    "  Dengan perintah 'pip install findspark' di terminal\n",
    "  ```\n",
    "- **Setelah installasi selesai, membuka vscode melalui anaconda. jika vscode sudah pernah di install ada tulisan 'launch', sedangkan jika belum install maka ada tulisan 'install'**\n",
    "  \n",
    "- **Membuat project baru di vscode berisi praktikum ini**\n"
   ]
  },
  {
   "cell_type": "markdown",
   "metadata": {},
   "source": [
    "**2. Praktik dengan Pyspark**\n",
    "- **Tugas 1**: Jalankan kode di atas dan buat modifikasi dengan menambahkan data lain berupa kolom pekerjaan, hobi dan gender."
   ]
  },
  {
   "cell_type": "code",
   "execution_count": 6,
   "metadata": {},
   "outputs": [],
   "source": [
    "import findspark\n",
    "findspark.init()"
   ]
  },
  {
   "cell_type": "markdown",
   "metadata": {},
   "source": [
    "**Penjelasan:**\n",
    "\n",
    "**1.'import findspark'**: Mengimpor modul **findspark**, guna untuk mengkofigurasi jalur Spark.\n",
    "\n",
    "**2. 'findspark.init()'**: Menginisialisasi **'findspark'** sehingga Python dapat menemukan lokasi instalasi Spark. Dengan menjalankan ini, Anda dapat mengimpor modul Spark (pyspark) tanpa harus mengonfigurasi variabel lingkungan seperti SPARK_HOME secara manual."
   ]
  },
  {
   "cell_type": "code",
   "execution_count": 7,
   "metadata": {},
   "outputs": [
    {
     "name": "stdout",
     "output_type": "stream",
     "text": [
      "+-----+----+----------+----------+---------+\n",
      "| Nama|Usia| Pekerjaan|      Hobi|   Gender|\n",
      "+-----+----+----------+----------+---------+\n",
      "|  Ali|  34|      Guru|   Menulis|Laki-laki|\n",
      "| Budi|  23|Arsitektur|Menggambar|Laki-laki|\n",
      "|Citra|  29|   Tentara|  Berenang|Perempuan|\n",
      "| Dina|  45|    Dokter|   Membaca|Perempuan|\n",
      "|Manda|  24|  Engineer| Mengoding|Perempuan|\n",
      "+-----+----+----------+----------+---------+\n",
      "\n"
     ]
    }
   ],
   "source": [
    "from pyspark.sql import SparkSession\n",
    "\n",
    "# Memulai Spark session\n",
    "spark = SparkSession.builder.appName(\"BigDataPractice\").getOrCreate()\n",
    "\n",
    "# Membuat DataFrame sederhana\n",
    "data = [\n",
    "    (\"Ali\", 34, \"Guru\", \"Menulis\", \"Laki-laki\"),\n",
    "    (\"Budi\", 23, \"Arsitektur\", \"Menggambar\", \"Laki-laki\"),\n",
    "    (\"Citra\", 29, \"Tentara\", \"Berenang\", \"Perempuan\"),\n",
    "    (\"Dina\", 45, \"Dokter\", \"Membaca\", \"Perempuan\"),\n",
    "    (\"Manda\", 24, \"Engineer\", \"Mengoding\", \"Perempuan\")\n",
    "]\n",
    "columns = [\"Nama\", \"Usia\", \"Pekerjaan\", \"Hobi\", \"Gender\"]\n",
    "df = spark.createDataFrame(data, columns)\n",
    "\n",
    "# Menampilkan DataFrame\n",
    "df.show()"
   ]
  },
  {
   "cell_type": "markdown",
   "metadata": {},
   "source": [
    "**Penjelasan:**\n",
    "\n",
    "**1. 'From pyspark.sql import SparkSession'** untuk mengimport **SparkSession`** dari PysPark\n",
    "\n",
    "**2. Membuat DataFrame** dengan mendefinisikan data dan nama kolom\n",
    "\n",
    "**3. Menampilkan DataFrame** menggunakan 'df.show()'"
   ]
  },
  {
   "cell_type": "markdown",
   "metadata": {},
   "source": [
    "**3. Praktik Pyspark Lanjutan**\n",
    "- **Tugas 2**: Lakukan filter, penghitungan rata-rata, dan pengurutan data menggunakan PySpark."
   ]
  },
  {
   "cell_type": "code",
   "execution_count": 8,
   "metadata": {},
   "outputs": [
    {
     "name": "stdout",
     "output_type": "stream",
     "text": [
      "+-----+----+----------+----------+---------+\n",
      "| Nama|Usia| Pekerjaan|      Hobi|   Gender|\n",
      "+-----+----+----------+----------+---------+\n",
      "|  Ali|  34|      Guru|   Menulis|Laki-laki|\n",
      "| Budi|  23|Arsitektur|Menggambar|Laki-laki|\n",
      "|Citra|  29|   Tentara|  Berenang|Perempuan|\n",
      "| Dina|  45|    Dokter|   Membaca|Perempuan|\n",
      "|Manda|  24|  Engineer| Mengoding|Perempuan|\n",
      "+-----+----+----------+----------+---------+\n",
      "\n",
      "+-----+----+----------+----------+---------+\n",
      "| Nama|Usia| Pekerjaan|      Hobi|   Gender|\n",
      "+-----+----+----------+----------+---------+\n",
      "|  Ali|  34|      Guru|   Menulis|Laki-laki|\n",
      "| Budi|  23|Arsitektur|Menggambar|Laki-laki|\n",
      "|Citra|  29|   Tentara|  Berenang|Perempuan|\n",
      "| Dina|  45|    Dokter|   Membaca|Perempuan|\n",
      "|Manda|  24|  Engineer| Mengoding|Perempuan|\n",
      "+-----+----+----------+----------+---------+\n",
      "\n",
      "+---------+\n",
      "|avg(Usia)|\n",
      "+---------+\n",
      "|     31.0|\n",
      "+---------+\n",
      "\n",
      "+-----+----+----------+----------+---------+\n",
      "| Nama|Usia| Pekerjaan|      Hobi|   Gender|\n",
      "+-----+----+----------+----------+---------+\n",
      "| Dina|  45|    Dokter|   Membaca|Perempuan|\n",
      "|  Ali|  34|      Guru|   Menulis|Laki-laki|\n",
      "|Citra|  29|   Tentara|  Berenang|Perempuan|\n",
      "|Manda|  24|  Engineer| Mengoding|Perempuan|\n",
      "| Budi|  23|Arsitektur|Menggambar|Laki-laki|\n",
      "+-----+----+----------+----------+---------+\n",
      "\n"
     ]
    }
   ],
   "source": [
    "from pyspark.sql import SparkSession\n",
    "\n",
    "# Memulai Spark session\n",
    "spark = SparkSession.builder.appName(\"BigDataPractice\").getOrCreate()\n",
    "\n",
    "# Membuat DataFrame sederhana\n",
    "data = [\n",
    "    (\"Ali\", 34, \"Guru\", \"Menulis\", \"Laki-laki\"),\n",
    "    (\"Budi\", 23, \"Arsitektur\", \"Menggambar\", \"Laki-laki\"),\n",
    "    (\"Citra\", 29, \"Tentara\", \"Berenang\", \"Perempuan\"),\n",
    "    (\"Dina\", 45, \"Dokter\", \"Membaca\", \"Perempuan\"),\n",
    "    (\"Manda\", 24, \"Engineer\", \"Mengoding\", \"Perempuan\")\n",
    "]\n",
    "columns = [\"Nama\", \"Usia\", \"Pekerjaan\", \"Hobi\", \"Gender\"]\n",
    "df = spark.createDataFrame(data, columns)\n",
    "\n",
    "# Menampilkan DataFrame\n",
    "df.show()\n",
    "\n",
    "# Filtering data\n",
    "df_filtered = df.filter(df['Usia'] > 20)\n",
    "df_filtered.show()\n",
    "\n",
    "# Menghitung rata-rata usia\n",
    "from pyspark.sql.functions import avg\n",
    "df.groupBy().agg(avg(\"Usia\")).show()\n",
    "\n",
    "# Mengurutkan data berdasarkan usia\n",
    "df_sorted = df.orderBy(\"Usia\", ascending=False)\n",
    "df_sorted.show()"
   ]
  },
  {
   "cell_type": "markdown",
   "metadata": {},
   "source": [
    "**Penjelasan:**\n",
    "\n",
    "**1. Filtering Data** untuk mendapatkan data dengan usia > 20\n",
    "\n",
    "**2. Menghitung rata-rata kolom usia** menggunakan 'avg(avg(\"usia\"))` untuk group tersebut `groupBy`\n",
    "\n",
    "**3. Mengurutkan data** Berdasarkan usia dari usia yang tinggi ke yang rendah lalu data ditampilkan menggunakan **`show`**."
   ]
  },
  {
   "cell_type": "markdown",
   "metadata": {},
   "source": [
    "**4. Praktik dengan Pandas**\n",
    "- **Tugas 3**: Modifikasi DataFrame Pandas dengan menambahkan kolom baru dan melakukan operasi seperti filtering data berdasarkan usia."
   ]
  },
  {
   "cell_type": "code",
   "execution_count": 12,
   "metadata": {},
   "outputs": [
    {
     "name": "stdout",
     "output_type": "stream",
     "text": [
      "    Nama  Usia Pekerjaan      Hobi     Gender\n",
      "0    Ali    34      Guru   Menulis  Laki-laki\n",
      "2  Citra    29   Tentara  Berenang  Perempuan\n",
      "3   Dina    45    Dokter   Membaca  Perempuan\n"
     ]
    }
   ],
   "source": [
    "import pandas as pd\n",
    "\n",
    "# Membuat DataFrame Pandas\n",
    "data_pandas = {\"Nama\": [\"Ali\", \"Budi\", \"Citra\", \"Dina\", \"Manda\"], \n",
    "               \"Usia\": [34, 23, 29, 45, 24], \n",
    "               \"Pekerjaan\": [\"Guru\", \"Arsitektur\", \"Tentara\", \"Dokter\", \"Engineer\"],\n",
    "               \"Hobi\": [\"Menulis\", \"Menggambar\", \"Berenang\", \"Membaca\", \"Mengoding\"],\n",
    "               \"Gender\": [\"Laki-laki\", \"Laki-laki\", \"Perempuan\", \"Perempuan\", \"Perempuan\"]}\n",
    "\n",
    "# Mengonversi dictionary menjadi DataFrame\n",
    "df_pandas = pd.DataFrame(data_pandas)\n",
    "\n",
    "# Filter DataFrame untuk usia di atas 25\n",
    "df_usia_di_atas_20 = df_pandas[df_pandas['Usia'] > 25]\n",
    "\n",
    "# Menampilkan DataFrame Pandas\n",
    "print(df_usia_di_atas_20)"
   ]
  },
  {
   "cell_type": "markdown",
   "metadata": {},
   "source": [
    "**Penjelasan:**\n",
    "\n",
    "**1. Membuat DataFrame**: `data_pandas adalah dictionary yang berisi data dengan beberapa kolom: Nama, Usia, Pekerjaan, Hobi, dan Gender.\n",
    "\n",
    "**2. Mengorversi dictionary menjadi dataFrame**: df_pandas = pd.DataFrame(data_pandas) mengonversi dictionary ini menjadi DataFrame Pandas, yang merupakan struktur data tabular dengan baris dan kolom.\n",
    "\n",
    "**3. Memfilter DataFrame yang Difilter**: memfilter dataFrame sehingga hanya menyimpan baris-baris di mana 'usia' lebih dari 25 tahun.\n",
    "\n",
    "**4. 'print'** untuk menampilkan usia lebih dari 25"
   ]
  },
  {
   "cell_type": "markdown",
   "metadata": {},
   "source": [
    "**5. Praktik Pandas lanjutan**\n",
    "- **Tugas 4**: Lakukan penggabungan DataFrame dan visualisasikan data dengan Pandas."
   ]
  },
  {
   "cell_type": "code",
   "execution_count": 13,
   "metadata": {},
   "outputs": [
    {
     "name": "stdout",
     "output_type": "stream",
     "text": [
      "    Nama  Usia Pekerjaan\n",
      "0    Ali    34    Dokter\n",
      "1   Budi    23      Guru\n",
      "2  Citra    29  Insinyur\n",
      "3   Dina    45   Perawat\n",
      "            Usia\n",
      "count   4.000000\n",
      "mean   32.750000\n",
      "std     9.322911\n",
      "min    23.000000\n",
      "25%    27.500000\n",
      "50%    31.500000\n",
      "75%    36.750000\n",
      "max    45.000000\n"
     ]
    },
    {
     "data": {
      "image/png": "[encoded data removed]",
      "text/plain": [
       "<Figure size 640x480 with 1 Axes>"
      ]
     },
     "metadata": {},
     "output_type": "display_data"
    }
   ],
   "source": [
    "import pandas as pd\n",
    "\n",
    "# Membuat DataFrame Pandas\n",
    "data_pandas = {\"Nama\": [\"Ali\", \"Budi\", \"Citra\", \"Dina\"], \"Usia\": [34, 23, 29, 45]}\n",
    "df_pandas = pd.DataFrame(data_pandas)\n",
    "\n",
    "# Membuat DataFrame kedua\n",
    "data_pandas_2 = {\"Nama\": [\"Ali\", \"Budi\", \"Citra\", \"Dina\"], \"Pekerjaan\": [\"Dokter\", \"Guru\", \"Insinyur\", \"Perawat\"]}\n",
    "df_pandas_2 = pd.DataFrame(data_pandas_2)\n",
    "\n",
    "# Join antara dua DataFrame\n",
    "df_joined = pd.merge(df_pandas, df_pandas_2, on=\"Nama\")\n",
    "print(df_joined)\n",
    "\n",
    "# Menghitung statistik deskriptif\n",
    "print(df_pandas.describe())\n",
    "\n",
    "# Plotting Data\n",
    "import matplotlib.pyplot as plt\n",
    "df_pandas['Usia'].plot(kind='bar')\n",
    "plt.xlabel(\"Nama\") #untuk mengatur label pada sumbu X\n",
    "plt.ylabel(\"Usia\") #untuk mengatur label pada sumbu Y\n",
    "plt.title(\"Visualisasi Usia\") #untuk mengatur judul grafik\n",
    "plt.xticks(ticks=range(len(df_pandas)), labels=df_pandas['Nama'], rotation=0) #untuk mengatur tampilan label pada sumbu X sesuai dengan nama pada dataFrame\n",
    "plt.show()"
   ]
  },
  {
   "cell_type": "markdown",
   "metadata": {},
   "source": [
    "**Penjelasan:**\n",
    "\n",
    "   **1. Membuat dua DataFrame** yang pertama DataFrame pandas(Nama dan usia), lalu buat dataFrame yang kedua(Nama dan Pekerjaan) untuk digabungkan antara dua dataFrame tersebut menggunakan 'Join DataFrame'.\n",
    "\n",
    "   **2. Statistik Deskriptif** Menghitung statistik dasar (seperti rata-rata, standar deviasi) dari DataFrame df_pandas.\n",
    "\n",
    "   **3. Plotting data** Membuat Grafik batang untuk memvisualisasikan usia masing-masing individu, dengan sumbu 'x' dan sumbu 'y'."
   ]
  },
  {
   "cell_type": "markdown",
   "metadata": {},
   "source": [
    "**6. Menggabungkan PySpark dengan Pandas**\n",
    "- **Tugas 5**: Gunakan metode ini untuk menggabungkan data yang Anda buat di PySpark dengan data dari Pandas, kemudian lakukan analisis sederhana seperti menghitung rata-rata usia."
   ]
  },
  {
   "cell_type": "code",
   "execution_count": 14,
   "metadata": {},
   "outputs": [
    {
     "name": "stdout",
     "output_type": "stream",
     "text": [
      "+-----+----+----------+----------+---------+\n",
      "| Nama|Usia| Pekerjaan|      Hobi|   Gender|\n",
      "+-----+----+----------+----------+---------+\n",
      "|  Ali|  34|      Guru|   Menulis|Laki-laki|\n",
      "| Budi|  23|Arsitektur|Menggambar|Laki-laki|\n",
      "|Citra|  29|   Tentara|  Berenang|Perempuan|\n",
      "| Dina|  45|    Dokter|   Membaca|Perempuan|\n",
      "|Manda|  24|  Engineer| Mengoding|Perempuan|\n",
      "+-----+----+----------+----------+---------+\n",
      "\n",
      "+-----+----+----------+----------+---------+\n",
      "| Nama|Usia| Pekerjaan|      Hobi|   Gender|\n",
      "+-----+----+----------+----------+---------+\n",
      "| Faya|  25|      Koki|   Memasak|Perempuan|\n",
      "| Kana|  26|  Pedagang|  Olahraga|Perempuan|\n",
      "| Wijo|  35|   Teknisi| Memancing|Laki-laki|\n",
      "|  Ali|  34|      Guru|   Menulis|Laki-laki|\n",
      "| Budi|  23|Arsitektur|Menggambar|Laki-laki|\n",
      "|Citra|  29|   Tentara|  Berenang|Perempuan|\n",
      "| Dina|  45|    Dokter|   Membaca|Perempuan|\n",
      "|Manda|  24|  Engineer| Mengoding|Perempuan|\n",
      "+-----+----+----------+----------+---------+\n",
      "\n",
      "Rata-rata usia: 30.125\n"
     ]
    }
   ],
   "source": [
    "from pyspark.sql import SparkSession\n",
    "import pandas as pdspark\n",
    "\n",
    "# Membuat SparkSession\n",
    "spark = SparkSession.builder.appName(\"DataFrameExample\").getOrCreate()\n",
    "\n",
    "# Membuat DataFrame di pandas\n",
    "data_pandas = {\n",
    "    \"Nama\": [\"Ali\", \"Budi\", \"Citra\", \"Dina\", \"Manda\"],\n",
    "    \"Usia\": [34, 23, 29, 45, 24],\n",
    "    \"Pekerjaan\": [\"Guru\", \"Arsitektur\", \"Tentara\", \"Dokter\", \"Engineer\"],\n",
    "    'Hobi': ['Menulis', 'Menggambar', 'Berenang', 'Membaca', 'Mengoding'],\n",
    "    'Gender': ['Laki-laki', 'Laki-laki', 'Perempuan', 'Perempuan', 'Perempuan']\n",
    "}\n",
    "\n",
    "df_pandas = pd.DataFrame(data_pandas)\n",
    "\n",
    "# Mengonversi DataFrame dari Pandas ke PySpark\n",
    "df_spark_from_pandas = spark.createDataFrame(df_pandas)\n",
    "\n",
    "# Membuat DataFrame langsung di PySpark\n",
    "data_spark = [\n",
    "    (\"Faya\", 25, \"Koki\", \"Memasak\", \"Perempuan\"),\n",
    "    (\"Kana\", 26, \"Pedagang\", \"Olahraga\", \"Perempuan\"),\n",
    "    (\"Wijo\", 35, \"Teknisi\", \"Memancing\", \"Laki-laki\")\n",
    "]\n",
    "\n",
    "df_spark = spark.createDataFrame(data_spark, ['Nama', 'Usia', 'Pekerjaan', 'Hobi', 'Gender'])\n",
    "\n",
    "# Mengonversi DataFrame dari PySpark ke Pandas\n",
    "df_pandas_from_spark = df.toPandas()\n",
    "\n",
    "# Menggabungkan DataFrame dari pandas ke pyspark\n",
    "df_combined = df_spark.union(df_spark_from_pandas)\n",
    "\n",
    "# Menampilkan DataFrame hasil konversi\n",
    "df_pandas_from_spark, df_spark_from_pandas.show()\n",
    "\n",
    "# Menampilkan DataFrame hasil gabungan\n",
    "df_combined.show()\n",
    "\n",
    "# Menghitung rata-rata usia\n",
    "rata_rata_usia = df_combined.groupBy().avg('usia').collect()[0][0]\n",
    "print(f\"Rata-rata usia: {rata_rata_usia}\")"
   ]
  },
  {
   "cell_type": "markdown",
   "metadata": {},
   "source": [
    "**Penjelasan:**\n",
    "\n",
    "**1. Inisialisasi SparkSession** dengan nama \"DataFrameExample\".\n",
    "\n",
    "**2. Konversi dataFrame** dari Pandas ke PySpark, dari Pyspark ke Pandas\n",
    "\n",
    "**3. Gabungkan kedua data** Menggabungkan dua DataFrame PySpark\n",
    "\n",
    "**4. Menampilkan dan Menghitung Rata-rata usia** Menampilkan DataFrame hasil konversi dan gabungan.\n",
    "Menghitung rata-rata usia dari DataFrame gabungan."
   ]
  },
  {
   "cell_type": "markdown",
   "metadata": {},
   "source": [
    "**7. Konversi Data antara PySpark dengan Pandas**\n",
    "- **Tugas 6**: Gabungkan data dari PySpark dan Pandas, lalu lakukan operasi statistik seperti menghitung nilai maksimum usia."
   ]
  },
  {
   "cell_type": "code",
   "execution_count": 15,
   "metadata": {},
   "outputs": [
    {
     "name": "stdout",
     "output_type": "stream",
     "text": [
      "+-----+----+----------+----------+---------+\n",
      "| Nama|Usia| Pekerjaan|      Hobi|   Gender|\n",
      "+-----+----+----------+----------+---------+\n",
      "|  Ali|  34|      Guru|   Menulis|Laki-laki|\n",
      "| Budi|  23|Arsitektur|Menggambar|Laki-laki|\n",
      "|Citra|  29|   Tentara|  Berenang|Perempuan|\n",
      "| Dina|  45|    Dokter|   Membaca|Perempuan|\n",
      "|Manda|  24|  Engineer| Mengoding|Perempuan|\n",
      "+-----+----+----------+----------+---------+\n",
      "\n",
      "+-----+----+----------+----------+---------+\n",
      "| Nama|Usia| Pekerjaan|      Hobi|   Gender|\n",
      "+-----+----+----------+----------+---------+\n",
      "| Faya|  25|      Koki|   Memasak|Perempuan|\n",
      "| Kana|  26|  Pedagang|  Olahraga|Perempuan|\n",
      "| Wijo|  35|   Teknisi| Memancing|Laki-laki|\n",
      "|  Ali|  34|      Guru|   Menulis|Laki-laki|\n",
      "| Budi|  23|Arsitektur|Menggambar|Laki-laki|\n",
      "|Citra|  29|   Tentara|  Berenang|Perempuan|\n",
      "| Dina|  45|    Dokter|   Membaca|Perempuan|\n",
      "|Manda|  24|  Engineer| Mengoding|Perempuan|\n",
      "+-----+----+----------+----------+---------+\n",
      "\n",
      "Nilai maksimum usia: 45\n"
     ]
    }
   ],
   "source": [
    "from pyspark.sql import SparkSession\n",
    "import pandas as pdspark\n",
    "\n",
    "# Membuat SparkSession\n",
    "spark = SparkSession.builder.appName(\"DataFrameExample\").getOrCreate()\n",
    "\n",
    "# Membuat DataFrame di pandas\n",
    "data_pandas = {\n",
    "    \"Nama\": [\"Ali\", \"Budi\", \"Citra\", \"Dina\", \"Manda\"],\n",
    "    \"Usia\": [34, 23, 29, 45, 24],\n",
    "    \"Pekerjaan\": [\"Guru\", \"Arsitektur\", \"Tentara\", \"Dokter\", \"Engineer\"],\n",
    "    'Hobi': ['Menulis', 'Menggambar', 'Berenang', 'Membaca', 'Mengoding'],\n",
    "    'Gender': ['Laki-laki', 'Laki-laki', 'Perempuan', 'Perempuan', 'Perempuan']\n",
    "}\n",
    "\n",
    "df_pandas = pd.DataFrame(data_pandas)\n",
    "\n",
    "# Mengonversi DataFrame dari Pandas ke PySpark\n",
    "df_spark_from_pandas = spark.createDataFrame(df_pandas)\n",
    "\n",
    "# Membuat DataFrame langsung di PySpark\n",
    "data_spark = [\n",
    "    (\"Faya\", 25, \"Koki\", \"Memasak\", \"Perempuan\"),\n",
    "    (\"Kana\", 26, \"Pedagang\", \"Olahraga\", \"Perempuan\"),\n",
    "    (\"Wijo\", 35, \"Teknisi\", \"Memancing\", \"Laki-laki\")\n",
    "]\n",
    "\n",
    "df_spark = spark.createDataFrame(data_spark, ['Nama', 'Usia', 'Pekerjaan', 'Hobi', 'Gender'])\n",
    "\n",
    "# Mengonversi DataFrame dari PySpark ke Pandas\n",
    "df_pandas_from_spark = df.toPandas()\n",
    "\n",
    "# Menggabungkan DataFrame dari pandas ke pyspark\n",
    "df_combined = df_spark.union(df_spark_from_pandas)\n",
    "\n",
    "# Menampilkan DataFrame hasil konversi\n",
    "df_pandas_from_spark, df_spark_from_pandas.show()\n",
    "\n",
    "# Menampilkan DataFrame hasil gabungan\n",
    "df_combined.show()\n",
    "\n",
    "# Menghitung nilai maksimum usia\n",
    "nilai_maksimum_usia = df_combined.agg({\"Usia\": \"max\"}).collect()[0][0]\n",
    "print(f\"Nilai maksimum usia: {nilai_maksimum_usia}\")"
   ]
  },
  {
   "cell_type": "markdown",
   "metadata": {},
   "source": [
    "**Penjelasan:**\n",
    "\n",
    "**1. Inisialisasi SparkSession** dengan nama \"DataFrameExample\".\n",
    "\n",
    "**2. Konversi dataFrame** dari Pandas ke PySpark, dari Pyspark ke Pandas\n",
    "\n",
    "**3. Gabungkan kedua data** Menggabungkan dua DataFrame PySpark\n",
    "\n",
    "**4. Menampilkan DataFrame** Menampilkan data hasil konversi dan gabungan \n",
    "\n",
    "**5. Menghitung Nilai Maksimum Usia** Menghitung nilai maksimum dari kolom 'usia' di dataFrame gabungan"
   ]
  }
 ],
 "metadata": {
  "kernelspec": {
   "display_name": "PraktikumBigData1",
   "language": "python",
   "name": "python3"
  },
  "language_info": {
   "codemirror_mode": {
    "name": "ipython",
    "version": 3
   },
   "file_extension": ".py",
   "mimetype": "text/x-python",
   "name": "python",
   "nbconvert_exporter": "python",
   "pygments_lexer": "ipython3",
   "version": "3.11.9"
  }
 },
 "nbformat": 4,
 "nbformat_minor": 2
}
